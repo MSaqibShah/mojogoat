{
 "cells": [
  {
   "cell_type": "markdown",
   "id": "c1bc99e8",
   "metadata": {},
   "source": [
    "# Mojolab Graph Of All Things (MojoGOAT)"
   ]
  },
  {
   "cell_type": "code",
   "execution_count": 1,
   "id": "aa0be18b-6827-47e6-8e59-e423c96af84d",
   "metadata": {},
   "outputs": [],
   "source": [
    "%run setup-goat.py\n",
    "\n",
    "# Set up Google Sheets - get a googledrive object\n",
    "gd=pygsheets.authorize(client_secret=\"/opt/xpal-data/xpal-config/xetrapal-auth/googleclient.json\")\n",
    "\n",
    "\n",
    "# Connect to the GOATs\n",
    "neo4jconfig=get_mgc(\"neo4j\")\n",
    "mgoatconfig=get_mgc(\"mojogoat\")\n",
    "mojogoat=MojoGoat(mgoatconfig)\n",
    "neo4jdb=MojoGoat(neo4jconfig)\n",
    "\n"
   ]
  },
  {
   "cell_type": "code",
   "execution_count": 2,
   "id": "ab96b382",
   "metadata": {},
   "outputs": [],
   "source": [
    "labels=[\n",
    "    'Person',\n",
    "    'Organization',\n",
    "    'Company',\n",
    "    'NGO',\n",
    "    'Govt Body',\n",
    "    'Division',\n",
    "    'Node'\n",
    "]\n",
    "def update_keystones():\n",
    "    k1=mojogoat.add_node(nodeid=\"__keystone1\")\n",
    "    k2=mojogoat.add_node(nodeid=\"__keystone2\")\n",
    "    mojogoat.update_labels(\"__keystone1\",labels)\n",
    "    mojogoat.update_labels(\"__keystone2\",labels)\n",
    "\n",
    "    k1.isthesameas.add(k2)\n",
    "    k1.linkedto.add(k2)\n",
    "    k2.isthesameas.add(k1)\n",
    "    k2.linkedto.add(k1)\n",
    "    mojogoat.repo.save(k2)\n",
    "    mojogoat.repo.save(k1)"
   ]
  },
  {
   "cell_type": "code",
   "execution_count": 4,
   "id": "0432c5ab",
   "metadata": {
    "scrolled": true
   },
   "outputs": [
    {
     "name": "stdout",
     "output_type": "stream",
     "text": [
      "[{'Person': 1405}, {'Division': 1}, {'Organization': 264}, {'Node': 1911}, {'Govt Body': 1}]\n",
      "[{'NGO': 2}, {'Person': 2}, {'Division': 2}, {'Organization': 2}, {'Node': 2020}, {'Govt Body': 2}, {'Company': 2}]\n"
     ]
    }
   ],
   "source": [
    "print(neo4jdb.get_compostion())\n",
    "print(mojogoat.get_compostion())"
   ]
  },
  {
   "cell_type": "code",
   "execution_count": 5,
   "id": "4683b7f4",
   "metadata": {},
   "outputs": [],
   "source": [
    "neo4jids=[node.get(\"nodeid\") for node in neo4jdb.nodes.match(\"Node\").all()]\n",
    "mojogoatids=[node.get(\"nodeid\") for node in mojogoat.nodes.match(\"Node\").all()]\n",
    "\n",
    "def common_member(a, b):\n",
    "    a_set = set(a)\n",
    "    b_set = set(b)\n",
    " \n",
    "    if (a_set & b_set):\n",
    "        return list(a_set & b_set)\n",
    "    else:\n",
    "        print(\"No common elements\")\n",
    "\n",
    "commonlist=common_member(neo4jids,mojogoatids)\n",
    "\n"
   ]
  },
  {
   "cell_type": "code",
   "execution_count": 6,
   "id": "94227ac9",
   "metadata": {},
   "outputs": [
    {
     "data": {
      "text/plain": [
       "1906"
      ]
     },
     "execution_count": 6,
     "metadata": {},
     "output_type": "execute_result"
    }
   ],
   "source": [
    "len(commonlist)\n"
   ]
  }
 ],
 "metadata": {
  "kernelspec": {
   "display_name": "Python 3.6.9 64-bit",
   "language": "python",
   "name": "python3"
  },
  "language_info": {
   "codemirror_mode": {
    "name": "ipython",
    "version": 3
   },
   "file_extension": ".py",
   "mimetype": "text/x-python",
   "name": "python",
   "nbconvert_exporter": "python",
   "pygments_lexer": "ipython3",
   "version": "3.6.9"
  },
  "vscode": {
   "interpreter": {
    "hash": "31f2aee4e71d21fbe5cf8b01ff0e069b9275f58929596ceb00d14d90e3e16cd6"
   }
  }
 },
 "nbformat": 4,
 "nbformat_minor": 5
}
